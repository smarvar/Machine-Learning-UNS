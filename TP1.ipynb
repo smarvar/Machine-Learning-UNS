{
  "nbformat": 4,
  "nbformat_minor": 0,
  "metadata": {
    "colab": {
      "name": "TP1",
      "provenance": [],
      "collapsed_sections": [],
      "authorship_tag": "ABX9TyMLMbYV9pwFRd8lJmC7iZjq",
      "include_colab_link": true
    },
    "kernelspec": {
      "name": "python3",
      "display_name": "Python 3"
    }
  },
  "cells": [
    {
      "cell_type": "markdown",
      "metadata": {
        "id": "view-in-github",
        "colab_type": "text"
      },
      "source": [
        "<a href=\"https://colab.research.google.com/github/smarvar/Machine-Learning-UNS/blob/master/TP1.ipynb\" target=\"_parent\"><img src=\"https://colab.research.google.com/assets/colab-badge.svg\" alt=\"Open In Colab\"/></a>"
      ]
    },
    {
      "cell_type": "code",
      "metadata": {
        "id": "ydABEhmknEBk",
        "outputId": "fe9b35af-25c9-474a-d061-d1a4e65f337c",
        "colab": {
          "base_uri": "https://localhost:8080/",
          "height": 390
        }
      },
      "source": [
        "import pandas as pd\n",
        "import numpy as np\n",
        "\n",
        "link = \"https://raw.githubusercontent.com/smarvar/Machine-Learnig-practice/master/Cuarteto_de_Anscombe.csv\"\n",
        "\n",
        "df = pd.read_csv(link, sep=';')\n",
        "df"
      ],
      "execution_count": 2,
      "outputs": [
        {
          "output_type": "execute_result",
          "data": {
            "text/html": [
              "<div>\n",
              "<style scoped>\n",
              "    .dataframe tbody tr th:only-of-type {\n",
              "        vertical-align: middle;\n",
              "    }\n",
              "\n",
              "    .dataframe tbody tr th {\n",
              "        vertical-align: top;\n",
              "    }\n",
              "\n",
              "    .dataframe thead th {\n",
              "        text-align: right;\n",
              "    }\n",
              "</style>\n",
              "<table border=\"1\" class=\"dataframe\">\n",
              "  <thead>\n",
              "    <tr style=\"text-align: right;\">\n",
              "      <th></th>\n",
              "      <th>x</th>\n",
              "      <th>y</th>\n",
              "      <th>x.1</th>\n",
              "      <th>y.1</th>\n",
              "      <th>x.2</th>\n",
              "      <th>y.2</th>\n",
              "      <th>x.3</th>\n",
              "      <th>y.3</th>\n",
              "    </tr>\n",
              "  </thead>\n",
              "  <tbody>\n",
              "    <tr>\n",
              "      <th>0</th>\n",
              "      <td>10</td>\n",
              "      <td>8.04</td>\n",
              "      <td>10</td>\n",
              "      <td>9.14</td>\n",
              "      <td>10</td>\n",
              "      <td>7.46</td>\n",
              "      <td>8</td>\n",
              "      <td>6.58</td>\n",
              "    </tr>\n",
              "    <tr>\n",
              "      <th>1</th>\n",
              "      <td>8</td>\n",
              "      <td>6.95</td>\n",
              "      <td>8</td>\n",
              "      <td>8.14</td>\n",
              "      <td>8</td>\n",
              "      <td>6.77</td>\n",
              "      <td>8</td>\n",
              "      <td>5.76</td>\n",
              "    </tr>\n",
              "    <tr>\n",
              "      <th>2</th>\n",
              "      <td>13</td>\n",
              "      <td>7.58</td>\n",
              "      <td>13</td>\n",
              "      <td>8.74</td>\n",
              "      <td>13</td>\n",
              "      <td>12.74</td>\n",
              "      <td>8</td>\n",
              "      <td>7.71</td>\n",
              "    </tr>\n",
              "    <tr>\n",
              "      <th>3</th>\n",
              "      <td>9</td>\n",
              "      <td>8.81</td>\n",
              "      <td>9</td>\n",
              "      <td>8.77</td>\n",
              "      <td>9</td>\n",
              "      <td>7.11</td>\n",
              "      <td>8</td>\n",
              "      <td>8.84</td>\n",
              "    </tr>\n",
              "    <tr>\n",
              "      <th>4</th>\n",
              "      <td>11</td>\n",
              "      <td>8.33</td>\n",
              "      <td>11</td>\n",
              "      <td>9.26</td>\n",
              "      <td>11</td>\n",
              "      <td>7.81</td>\n",
              "      <td>8</td>\n",
              "      <td>8.47</td>\n",
              "    </tr>\n",
              "    <tr>\n",
              "      <th>5</th>\n",
              "      <td>14</td>\n",
              "      <td>9.96</td>\n",
              "      <td>14</td>\n",
              "      <td>8.10</td>\n",
              "      <td>14</td>\n",
              "      <td>8.84</td>\n",
              "      <td>8</td>\n",
              "      <td>7.04</td>\n",
              "    </tr>\n",
              "    <tr>\n",
              "      <th>6</th>\n",
              "      <td>6</td>\n",
              "      <td>7.24</td>\n",
              "      <td>6</td>\n",
              "      <td>6.13</td>\n",
              "      <td>6</td>\n",
              "      <td>6.08</td>\n",
              "      <td>8</td>\n",
              "      <td>5.25</td>\n",
              "    </tr>\n",
              "    <tr>\n",
              "      <th>7</th>\n",
              "      <td>4</td>\n",
              "      <td>4.26</td>\n",
              "      <td>4</td>\n",
              "      <td>3.10</td>\n",
              "      <td>4</td>\n",
              "      <td>5.39</td>\n",
              "      <td>19</td>\n",
              "      <td>12.50</td>\n",
              "    </tr>\n",
              "    <tr>\n",
              "      <th>8</th>\n",
              "      <td>12</td>\n",
              "      <td>10.84</td>\n",
              "      <td>12</td>\n",
              "      <td>9.13</td>\n",
              "      <td>12</td>\n",
              "      <td>8.15</td>\n",
              "      <td>8</td>\n",
              "      <td>5.56</td>\n",
              "    </tr>\n",
              "    <tr>\n",
              "      <th>9</th>\n",
              "      <td>7</td>\n",
              "      <td>4.82</td>\n",
              "      <td>7</td>\n",
              "      <td>7.26</td>\n",
              "      <td>7</td>\n",
              "      <td>6.42</td>\n",
              "      <td>8</td>\n",
              "      <td>7.91</td>\n",
              "    </tr>\n",
              "    <tr>\n",
              "      <th>10</th>\n",
              "      <td>5</td>\n",
              "      <td>5.68</td>\n",
              "      <td>5</td>\n",
              "      <td>4.74</td>\n",
              "      <td>5</td>\n",
              "      <td>5.73</td>\n",
              "      <td>8</td>\n",
              "      <td>6.89</td>\n",
              "    </tr>\n",
              "  </tbody>\n",
              "</table>\n",
              "</div>"
            ],
            "text/plain": [
              "     x      y  x.1   y.1  x.2    y.2  x.3    y.3\n",
              "0   10   8.04   10  9.14   10   7.46    8   6.58\n",
              "1    8   6.95    8  8.14    8   6.77    8   5.76\n",
              "2   13   7.58   13  8.74   13  12.74    8   7.71\n",
              "3    9   8.81    9  8.77    9   7.11    8   8.84\n",
              "4   11   8.33   11  9.26   11   7.81    8   8.47\n",
              "5   14   9.96   14  8.10   14   8.84    8   7.04\n",
              "6    6   7.24    6  6.13    6   6.08    8   5.25\n",
              "7    4   4.26    4  3.10    4   5.39   19  12.50\n",
              "8   12  10.84   12  9.13   12   8.15    8   5.56\n",
              "9    7   4.82    7  7.26    7   6.42    8   7.91\n",
              "10   5   5.68    5  4.74    5   5.73    8   6.89"
            ]
          },
          "metadata": {
            "tags": []
          },
          "execution_count": 2
        }
      ]
    },
    {
      "cell_type": "markdown",
      "metadata": {
        "id": "jJlsQdprU1ND"
      },
      "source": [
        "**Verificando los parametros de los 4 Datasets**\n",
        "\n",
        "Media\n"
      ]
    },
    {
      "cell_type": "code",
      "metadata": {
        "id": "cZ7gNbWFTnV0",
        "outputId": "27091cbd-272a-400e-eafe-578b0acaf5a9",
        "colab": {
          "base_uri": "https://localhost:8080/",
          "height": 187
        }
      },
      "source": [
        "print('Media')\n",
        "print(df.mean())"
      ],
      "execution_count": 81,
      "outputs": [
        {
          "output_type": "stream",
          "text": [
            "Media\n",
            "x      9.000000\n",
            "y      7.500909\n",
            "x.1    9.000000\n",
            "y.1    7.500909\n",
            "x.2    9.000000\n",
            "y.2    7.500000\n",
            "x.3    9.000000\n",
            "y.3    7.500909\n",
            "dtype: float64\n"
          ],
          "name": "stdout"
        }
      ]
    },
    {
      "cell_type": "markdown",
      "metadata": {
        "id": "F5uRNgeRgoj_"
      },
      "source": [
        "Varianza"
      ]
    },
    {
      "cell_type": "code",
      "metadata": {
        "id": "WsRM-wJpXcYL",
        "outputId": "58777727-fa70-4ceb-9ee2-4532ac388fa3",
        "colab": {
          "base_uri": "https://localhost:8080/",
          "height": 187
        }
      },
      "source": [
        "print('Varianza')\n",
        "print(df.var(ddof=1))"
      ],
      "execution_count": 82,
      "outputs": [
        {
          "output_type": "stream",
          "text": [
            "Varianza\n",
            "x      11.000000\n",
            "y       4.127269\n",
            "x.1    11.000000\n",
            "y.1     4.127629\n",
            "x.2    11.000000\n",
            "y.2     4.122620\n",
            "x.3    11.000000\n",
            "y.3     4.123249\n",
            "dtype: float64\n"
          ],
          "name": "stdout"
        }
      ]
    },
    {
      "cell_type": "code",
      "metadata": {
        "id": "AcIeGbg0mNYU"
      },
      "source": [
        "a = np.array((df['x'])).reshape(-1,1)\n",
        "b = np.array((df['y']))"
      ],
      "execution_count": 5,
      "outputs": []
    },
    {
      "cell_type": "markdown",
      "metadata": {
        "id": "x7j-6TDF9wdj"
      },
      "source": [
        "Linear Regresión"
      ]
    },
    {
      "cell_type": "code",
      "metadata": {
        "id": "DYmKJDAbhj_X",
        "outputId": "0a9394cf-de78-43da-9786-d451c722f12a",
        "colab": {
          "base_uri": "https://localhost:8080/",
          "height": 51
        }
      },
      "source": [
        "from sklearn.linear_model import LinearRegression\n",
        "lm = LinearRegression()\n",
        "lm.fit(a, b) \n",
        "print('w = ' + str(lm.coef_) + ', b = ' + str(lm.intercept_))\n",
        "print('R2 = ' + str(lm.score(a,b)))"
      ],
      "execution_count": 6,
      "outputs": [
        {
          "output_type": "stream",
          "text": [
            "w = [0.50009091], b = 3.0000909090909094\n",
            "R2 = 0.6665424595087748\n"
          ],
          "name": "stdout"
        }
      ]
    },
    {
      "cell_type": "markdown",
      "metadata": {
        "id": "VLuPC1ZW98Eh"
      },
      "source": [
        "Datos a evaluar"
      ]
    },
    {
      "cell_type": "code",
      "metadata": {
        "id": "1MBiT5kNN4qN"
      },
      "source": [
        "new_data = np.array(([16, 8], [8, 6], [16,10], [16,6]))"
      ],
      "execution_count": 7,
      "outputs": []
    },
    {
      "cell_type": "code",
      "metadata": {
        "id": "Ak6HyLHd5UVL",
        "outputId": "a07eda37-88fd-41b7-ed1a-6509306c9940",
        "colab": {
          "base_uri": "https://localhost:8080/",
          "height": 592
        }
      },
      "source": [
        "import matplotlib.pyplot as plt\n",
        "\n",
        "eje_x = np.arange(0,20,0.1).reshape(-1,1)\n",
        "y_pred = lm.predict(eje_x)\n",
        "\n",
        "fig, ax = plt.subplots(figsize=(15,10))\n",
        "ax.plot(df.iloc[:,0], df.iloc[:,1], '*', label='I')\n",
        "ax.plot(df.iloc[:,2], df.iloc[:,3], '*', label='II')\n",
        "ax.plot(df.iloc[:,4], df.iloc[:,5], '*', label='III')\n",
        "ax.plot(df.iloc[:,6], df.iloc[:,7], '*', label='IV')\n",
        "ax.plot(eje_x, y_pred, '-', label='Linear regresion')\n",
        "ax.plot(new_data[:,0], new_data[:,1], 'o', label='New Data', c='black')\n",
        "ax.legend()\n",
        "#ax.grid(True)\n",
        "plt.show()"
      ],
      "execution_count": 8,
      "outputs": [
        {
          "output_type": "display_data",
          "data": {
            "image/png": "[encoded data removed]",
            "text/plain": [
              "<Figure size 1080x720 with 1 Axes>"
            ]
          },
          "metadata": {
            "tags": [],
            "needs_background": "light"
          }
        }
      ]
    },
    {
      "cell_type": "markdown",
      "metadata": {
        "id": "isMz9Z41G6ZY"
      },
      "source": [
        "Al no tener un criterio estadistico de discriminación, se recurre a una asignación de los nuevos datos por inspección visual y tendencia general de los datos, con lo cual se tiene:\n",
        "\n",
        "Teniendo los puntos:\n",
        "\n",
        "A [16, 8] se puede ver que pertenece al Dataset I. \n",
        "B [8, 6] se puede ver que pertenece al Dataset IV.\n",
        "C [16, 10] se puede ver que pertenece al Dataset III.\n",
        "D [16, 6] se puede ver que pertenece al Dataset II.\n",
        "\n",
        "Tambien se podria plantear lo siguiente: descartar aquellos puntos de los dataset que se ven como Outlayers y nuevamente plantear la regresion lineal para estos. La cual ya no sera la que se tuvo anteriormente. Esto permitiria asociar mas facilmente los Datasets I, III, y IV. Sin embango el Dataset II se observa que su tendencia es parabolica, por lo que una regresión polinomial de 2do grado seria mas conveniente para este caso.\n"
      ]
    }
  ]
}